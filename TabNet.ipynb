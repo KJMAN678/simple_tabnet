{
 "cells": [
  {
   "cell_type": "code",
   "execution_count": 1,
   "metadata": {
    "id": "BJpMNqvBIuyE"
   },
   "outputs": [],
   "source": [
    "import numpy as np\n",
    "import pandas as pd\n",
    "import matplotlib.pyplot as plt\n",
    "\n",
    "from sklearn.datasets import load_boston\n",
    "from sklearn.datasets import load_breast_cancer\n",
    "\n",
    "from sklearn.model_selection import train_test_split\n",
    "\n",
    "from sklearn.metrics import mean_absolute_error\n",
    "from sklearn.metrics import f1_score\n",
    "\n",
    "from pytorch_tabnet.tab_model import TabNetRegressor\n",
    "from pytorch_tabnet.tab_model import TabNetClassifier"
   ]
  },
  {
   "cell_type": "markdown",
   "metadata": {
    "id": "PssRJ43dKYgS"
   },
   "source": [
    "## 分類"
   ]
  },
  {
   "cell_type": "markdown",
   "metadata": {
    "id": "_qvSZe2LN5gL"
   },
   "source": [
    "### データセット"
   ]
  },
  {
   "cell_type": "code",
   "execution_count": 2,
   "metadata": {
    "colab": {
     "base_uri": "https://localhost:8080/",
     "height": 153
    },
    "id": "E_k69EkLI6m1",
    "outputId": "bff56953-437a-43da-b853-9c777590fccd"
   },
   "outputs": [
    {
     "name": "stdout",
     "output_type": "stream",
     "text": [
      "['malignant' 'benign']\n"
     ]
    },
    {
     "data": {
      "text/html": [
       "<div>\n",
       "<style scoped>\n",
       "    .dataframe tbody tr th:only-of-type {\n",
       "        vertical-align: middle;\n",
       "    }\n",
       "\n",
       "    .dataframe tbody tr th {\n",
       "        vertical-align: top;\n",
       "    }\n",
       "\n",
       "    .dataframe thead th {\n",
       "        text-align: right;\n",
       "    }\n",
       "</style>\n",
       "<table border=\"1\" class=\"dataframe\">\n",
       "  <thead>\n",
       "    <tr style=\"text-align: right;\">\n",
       "      <th></th>\n",
       "      <th>mean radius</th>\n",
       "      <th>mean texture</th>\n",
       "      <th>mean perimeter</th>\n",
       "      <th>mean area</th>\n",
       "      <th>mean smoothness</th>\n",
       "      <th>mean compactness</th>\n",
       "      <th>mean concavity</th>\n",
       "      <th>mean concave points</th>\n",
       "      <th>mean symmetry</th>\n",
       "      <th>mean fractal dimension</th>\n",
       "      <th>...</th>\n",
       "      <th>worst texture</th>\n",
       "      <th>worst perimeter</th>\n",
       "      <th>worst area</th>\n",
       "      <th>worst smoothness</th>\n",
       "      <th>worst compactness</th>\n",
       "      <th>worst concavity</th>\n",
       "      <th>worst concave points</th>\n",
       "      <th>worst symmetry</th>\n",
       "      <th>worst fractal dimension</th>\n",
       "      <th>target</th>\n",
       "    </tr>\n",
       "  </thead>\n",
       "  <tbody>\n",
       "    <tr>\n",
       "      <th>0</th>\n",
       "      <td>17.99</td>\n",
       "      <td>10.38</td>\n",
       "      <td>122.8</td>\n",
       "      <td>1001.0</td>\n",
       "      <td>0.1184</td>\n",
       "      <td>0.2776</td>\n",
       "      <td>0.3001</td>\n",
       "      <td>0.1471</td>\n",
       "      <td>0.2419</td>\n",
       "      <td>0.07871</td>\n",
       "      <td>...</td>\n",
       "      <td>17.33</td>\n",
       "      <td>184.6</td>\n",
       "      <td>2019.0</td>\n",
       "      <td>0.1622</td>\n",
       "      <td>0.6656</td>\n",
       "      <td>0.7119</td>\n",
       "      <td>0.2654</td>\n",
       "      <td>0.4601</td>\n",
       "      <td>0.1189</td>\n",
       "      <td>0</td>\n",
       "    </tr>\n",
       "  </tbody>\n",
       "</table>\n",
       "<p>1 rows × 31 columns</p>\n",
       "</div>"
      ],
      "text/plain": [
       "   mean radius  mean texture  mean perimeter  mean area  mean smoothness  \\\n",
       "0        17.99         10.38           122.8     1001.0           0.1184   \n",
       "\n",
       "   mean compactness  mean concavity  mean concave points  mean symmetry  \\\n",
       "0            0.2776          0.3001               0.1471         0.2419   \n",
       "\n",
       "   mean fractal dimension  ...  worst texture  worst perimeter  worst area  \\\n",
       "0                 0.07871  ...          17.33            184.6      2019.0   \n",
       "\n",
       "   worst smoothness  worst compactness  worst concavity  worst concave points  \\\n",
       "0            0.1622             0.6656           0.7119                0.2654   \n",
       "\n",
       "   worst symmetry  worst fractal dimension  target  \n",
       "0          0.4601                   0.1189       0  \n",
       "\n",
       "[1 rows x 31 columns]"
      ]
     },
     "execution_count": 2,
     "metadata": {},
     "output_type": "execute_result"
    }
   ],
   "source": [
    "print(load_breast_cancer()[\"target_names\"])\n",
    "\n",
    "df = pd.concat([\n",
    "           pd.DataFrame(load_breast_cancer()[\"data\"], columns=load_breast_cancer()[\"feature_names\"]), \n",
    "           pd.DataFrame(load_breast_cancer()[\"target\"], columns=[\"target\"])\n",
    "            ], axis=1)\n",
    "\n",
    "df.head(1)"
   ]
  },
  {
   "cell_type": "code",
   "execution_count": 3,
   "metadata": {
    "id": "sMQmbphpKt-6"
   },
   "outputs": [],
   "source": [
    "X_train, X_test, y_train, y_test    = train_test_split(df.drop(\"target\", axis=1), df[\"target\"], random_state=42)\n",
    "X_train, X_valid, y_train, y_valid = train_test_split(X_train, y_train, random_state=42)"
   ]
  },
  {
   "cell_type": "markdown",
   "metadata": {
    "id": "1nyoZ7k_N0mD"
   },
   "source": [
    "### 学習"
   ]
  },
  {
   "cell_type": "code",
   "execution_count": 4,
   "metadata": {
    "colab": {
     "base_uri": "https://localhost:8080/"
    },
    "id": "tFmFa195Japy",
    "outputId": "d01c0494-d3fa-409c-8185-00d17763aaf5"
   },
   "outputs": [
    {
     "name": "stdout",
     "output_type": "stream",
     "text": [
      "Device used : cpu\n",
      "epoch 0  | loss: 0.75655 | valid_auc: 0.46335 |  0:00:00s\n",
      "epoch 1  | loss: 0.64449 | valid_auc: 0.54545 |  0:00:00s\n",
      "epoch 2  | loss: 0.53142 | valid_auc: 0.66708 |  0:00:00s\n",
      "epoch 3  | loss: 0.48836 | valid_auc: 0.78051 |  0:00:00s\n",
      "epoch 4  | loss: 0.37243 | valid_auc: 0.67076 |  0:00:00s\n",
      "epoch 5  | loss: 0.30832 | valid_auc: 0.65889 |  0:00:00s\n",
      "epoch 6  | loss: 0.2239  | valid_auc: 0.8751  |  0:00:00s\n",
      "epoch 7  | loss: 0.18419 | valid_auc: 0.86855 |  0:00:00s\n",
      "epoch 8  | loss: 0.14829 | valid_auc: 0.91319 |  0:00:00s\n",
      "epoch 9  | loss: 0.13091 | valid_auc: 0.89107 |  0:00:00s\n",
      "epoch 10 | loss: 0.11243 | valid_auc: 0.88534 |  0:00:00s\n",
      "epoch 11 | loss: 0.11818 | valid_auc: 0.92711 |  0:00:01s\n",
      "epoch 12 | loss: 0.14016 | valid_auc: 0.91114 |  0:00:01s\n",
      "epoch 13 | loss: 0.13172 | valid_auc: 0.90049 |  0:00:01s\n",
      "epoch 14 | loss: 0.10484 | valid_auc: 0.88247 |  0:00:01s\n",
      "epoch 15 | loss: 0.09872 | valid_auc: 0.9312  |  0:00:01s\n",
      "epoch 16 | loss: 0.11129 | valid_auc: 0.91073 |  0:00:01s\n",
      "epoch 17 | loss: 0.11047 | valid_auc: 0.90418 |  0:00:01s\n",
      "epoch 18 | loss: 0.12683 | valid_auc: 0.8837  |  0:00:01s\n",
      "epoch 19 | loss: 0.13815 | valid_auc: 0.87142 |  0:00:01s\n",
      "epoch 20 | loss: 0.10901 | valid_auc: 0.94103 |  0:00:01s\n",
      "epoch 21 | loss: 0.08399 | valid_auc: 0.87879 |  0:00:01s\n",
      "epoch 22 | loss: 0.06684 | valid_auc: 0.77887 |  0:00:01s\n",
      "epoch 23 | loss: 0.08354 | valid_auc: 0.69001 |  0:00:01s\n",
      "epoch 24 | loss: 0.08338 | valid_auc: 0.64046 |  0:00:01s\n",
      "epoch 25 | loss: 0.06955 | valid_auc: 0.63718 |  0:00:01s\n",
      "epoch 26 | loss: 0.06988 | valid_auc: 0.62203 |  0:00:01s\n",
      "epoch 27 | loss: 0.0693  | valid_auc: 0.5516  |  0:00:01s\n",
      "epoch 28 | loss: 0.08586 | valid_auc: 0.4959  |  0:00:02s\n",
      "epoch 29 | loss: 0.04514 | valid_auc: 0.43612 |  0:00:02s\n",
      "epoch 30 | loss: 0.07464 | valid_auc: 0.42875 |  0:00:02s\n",
      "epoch 31 | loss: 0.03268 | valid_auc: 0.49918 |  0:00:02s\n",
      "epoch 32 | loss: 0.04745 | valid_auc: 0.55201 |  0:00:02s\n",
      "epoch 33 | loss: 0.0532  | valid_auc: 0.56347 |  0:00:02s\n",
      "epoch 34 | loss: 0.06158 | valid_auc: 0.58763 |  0:00:02s\n",
      "epoch 35 | loss: 0.06424 | valid_auc: 0.55078 |  0:00:02s\n",
      "epoch 36 | loss: 0.04014 | valid_auc: 0.56143 |  0:00:02s\n",
      "epoch 37 | loss: 0.04333 | valid_auc: 0.58804 |  0:00:02s\n",
      "epoch 38 | loss: 0.04593 | valid_auc: 0.59459 |  0:00:02s\n",
      "epoch 39 | loss: 0.03822 | valid_auc: 0.59787 |  0:00:02s\n",
      "epoch 40 | loss: 0.04695 | valid_auc: 0.60606 |  0:00:02s\n",
      "\n",
      "Early stopping occurred at epoch 40 with best_epoch = 20 and best_valid_auc = 0.94103\n",
      "Best weights from best epoch are automatically used!\n"
     ]
    }
   ],
   "source": [
    "cls = TabNetClassifier()\n",
    "\n",
    "cls.fit(\n",
    "            X_train=X_train.values,\n",
    "            y_train=y_train.values,\n",
    "            eval_set=[(X_valid.values, y_valid.values)],\n",
    "            eval_name = [\"valid\"],\n",
    "            eval_metric = [\"auc\"],\n",
    "            max_epochs=200,\n",
    "            patience=20, \n",
    "            batch_size=256, \n",
    "            virtual_batch_size=128,\n",
    "            num_workers=0, \n",
    "            drop_last=False,\n",
    ")"
   ]
  },
  {
   "cell_type": "markdown",
   "metadata": {
    "id": "z6R86Aw1NySj"
   },
   "source": [
    "### 予測と評価"
   ]
  },
  {
   "cell_type": "code",
   "execution_count": 5,
   "metadata": {
    "colab": {
     "base_uri": "https://localhost:8080/"
    },
    "id": "lH9_4TZeLKKv",
    "outputId": "5e94af7b-f6c8-46bc-aeb7-c7845c935bf0"
   },
   "outputs": [
    {
     "data": {
      "text/plain": [
       "0.0"
      ]
     },
     "execution_count": 5,
     "metadata": {},
     "output_type": "execute_result"
    }
   ],
   "source": [
    "y_pred = cls.predict(X_test.values)\n",
    "\n",
    "f1_score(y_test, y_pred)"
   ]
  },
  {
   "cell_type": "markdown",
   "metadata": {
    "id": "H0oODKySQYET"
   },
   "source": [
    "### 特徴量の重要性"
   ]
  },
  {
   "cell_type": "code",
   "execution_count": 6,
   "metadata": {
    "colab": {
     "base_uri": "https://localhost:8080/",
     "height": 609
    },
    "id": "x5wQdl0SQYK9",
    "outputId": "46959652-fbfc-4041-8119-850be6b7be51"
   },
   "outputs": [
    {
     "data": {
      "text/plain": [
       "<BarContainer object of 30 artists>"
      ]
     },
     "execution_count": 6,
     "metadata": {},
     "output_type": "execute_result"
    },
    {
     "data": {
      "image/png": "[encoded data removed]",
      "text/plain": [
       "<Figure size 720x720 with 1 Axes>"
      ]
     },
     "metadata": {
      "needs_background": "light"
     },
     "output_type": "display_data"
    }
   ],
   "source": [
    "plt.figure(figsize=(10, 10))\n",
    "\n",
    "future_importance = pd.DataFrame([cls.feature_importances_], columns=X_train.columns).T\n",
    "future_importance = future_importance.sort_values(0)\n",
    "\n",
    "plt.barh(future_importance.index, future_importance.values.flatten())"
   ]
  },
  {
   "cell_type": "markdown",
   "metadata": {
    "id": "iF2-QdjkNnEc"
   },
   "source": [
    "## 回帰"
   ]
  },
  {
   "cell_type": "markdown",
   "metadata": {
    "id": "-wORXDf4N8lL"
   },
   "source": [
    "### データセット"
   ]
  },
  {
   "cell_type": "code",
   "execution_count": 7,
   "metadata": {
    "colab": {
     "base_uri": "https://localhost:8080/",
     "height": 81
    },
    "id": "Iy3nk1kSM8jb",
    "outputId": "d670ca25-5f37-4b2e-b298-dc2c746a903e"
   },
   "outputs": [
    {
     "data": {
      "text/html": [
       "<div>\n",
       "<style scoped>\n",
       "    .dataframe tbody tr th:only-of-type {\n",
       "        vertical-align: middle;\n",
       "    }\n",
       "\n",
       "    .dataframe tbody tr th {\n",
       "        vertical-align: top;\n",
       "    }\n",
       "\n",
       "    .dataframe thead th {\n",
       "        text-align: right;\n",
       "    }\n",
       "</style>\n",
       "<table border=\"1\" class=\"dataframe\">\n",
       "  <thead>\n",
       "    <tr style=\"text-align: right;\">\n",
       "      <th></th>\n",
       "      <th>CRIM</th>\n",
       "      <th>ZN</th>\n",
       "      <th>INDUS</th>\n",
       "      <th>CHAS</th>\n",
       "      <th>NOX</th>\n",
       "      <th>RM</th>\n",
       "      <th>AGE</th>\n",
       "      <th>DIS</th>\n",
       "      <th>RAD</th>\n",
       "      <th>TAX</th>\n",
       "      <th>PTRATIO</th>\n",
       "      <th>B</th>\n",
       "      <th>LSTAT</th>\n",
       "      <th>target</th>\n",
       "    </tr>\n",
       "  </thead>\n",
       "  <tbody>\n",
       "    <tr>\n",
       "      <th>0</th>\n",
       "      <td>0.00632</td>\n",
       "      <td>18.0</td>\n",
       "      <td>2.31</td>\n",
       "      <td>0.0</td>\n",
       "      <td>0.538</td>\n",
       "      <td>6.575</td>\n",
       "      <td>65.2</td>\n",
       "      <td>4.09</td>\n",
       "      <td>1.0</td>\n",
       "      <td>296.0</td>\n",
       "      <td>15.3</td>\n",
       "      <td>396.9</td>\n",
       "      <td>4.98</td>\n",
       "      <td>24.0</td>\n",
       "    </tr>\n",
       "  </tbody>\n",
       "</table>\n",
       "</div>"
      ],
      "text/plain": [
       "      CRIM    ZN  INDUS  CHAS    NOX     RM   AGE   DIS  RAD    TAX  PTRATIO  \\\n",
       "0  0.00632  18.0   2.31   0.0  0.538  6.575  65.2  4.09  1.0  296.0     15.3   \n",
       "\n",
       "       B  LSTAT  target  \n",
       "0  396.9   4.98    24.0  "
      ]
     },
     "execution_count": 7,
     "metadata": {},
     "output_type": "execute_result"
    }
   ],
   "source": [
    "df = pd.concat([\n",
    "           pd.DataFrame(load_boston()[\"data\"], columns=load_boston()[\"feature_names\"]), \n",
    "           pd.DataFrame(load_boston()[\"target\"], columns=[\"target\"])\n",
    "           ], axis=1)\n",
    "                                      \n",
    "df.head(1)"
   ]
  },
  {
   "cell_type": "code",
   "execution_count": 8,
   "metadata": {
    "id": "e0cG7pG8OHST"
   },
   "outputs": [],
   "source": [
    "X_train, X_test, y_train, y_test    = train_test_split(df.drop(\"target\", axis=1), df[\"target\"], random_state=42)\n",
    "X_train, X_valid, y_train, y_valid = train_test_split(X_train, y_train, random_state=42)"
   ]
  },
  {
   "cell_type": "markdown",
   "metadata": {
    "id": "KqPIKsAXOgub"
   },
   "source": [
    "### 学習"
   ]
  },
  {
   "cell_type": "code",
   "execution_count": 9,
   "metadata": {
    "colab": {
     "base_uri": "https://localhost:8080/"
    },
    "id": "I2XKKFR2Od-r",
    "outputId": "60c46c0f-3b9f-4998-8a59-572b67e1de66"
   },
   "outputs": [
    {
     "name": "stdout",
     "output_type": "stream",
     "text": [
      "Device used : cpu\n",
      "epoch 0  | loss: 635.55132| valid_rmse: 71.97947|  0:00:00s\n",
      "epoch 1  | loss: 583.41405| valid_rmse: 62.73944|  0:00:00s\n",
      "epoch 2  | loss: 544.80873| valid_rmse: 29.88002|  0:00:00s\n",
      "epoch 3  | loss: 514.06158| valid_rmse: 27.36741|  0:00:00s\n",
      "epoch 4  | loss: 481.69049| valid_rmse: 24.99495|  0:00:00s\n",
      "epoch 5  | loss: 454.81417| valid_rmse: 23.07198|  0:00:00s\n",
      "epoch 6  | loss: 422.57495| valid_rmse: 21.18393|  0:00:00s\n",
      "epoch 7  | loss: 383.84071| valid_rmse: 21.40409|  0:00:00s\n",
      "epoch 8  | loss: 341.91658| valid_rmse: 23.41911|  0:00:00s\n",
      "epoch 9  | loss: 303.20304| valid_rmse: 30.50299|  0:00:00s\n",
      "epoch 10 | loss: 262.22333| valid_rmse: 48.52612|  0:00:00s\n",
      "epoch 11 | loss: 231.11828| valid_rmse: 60.03732|  0:00:00s\n",
      "epoch 12 | loss: 189.78543| valid_rmse: 73.67635|  0:00:00s\n",
      "epoch 13 | loss: 154.70808| valid_rmse: 83.52357|  0:00:00s\n",
      "epoch 14 | loss: 131.14289| valid_rmse: 94.79163|  0:00:00s\n",
      "epoch 15 | loss: 99.86883| valid_rmse: 105.5284|  0:00:01s\n",
      "epoch 16 | loss: 76.68426| valid_rmse: 109.28324|  0:00:01s\n",
      "epoch 17 | loss: 55.99441| valid_rmse: 112.15741|  0:00:01s\n",
      "epoch 18 | loss: 38.30348| valid_rmse: 119.97268|  0:00:01s\n",
      "epoch 19 | loss: 31.25046| valid_rmse: 123.54931|  0:00:01s\n",
      "epoch 20 | loss: 34.77619| valid_rmse: 118.20562|  0:00:01s\n",
      "epoch 21 | loss: 28.88898| valid_rmse: 102.60751|  0:00:01s\n",
      "epoch 22 | loss: 31.72963| valid_rmse: 84.33296|  0:00:01s\n",
      "epoch 23 | loss: 26.89073| valid_rmse: 70.29181|  0:00:01s\n",
      "epoch 24 | loss: 24.47101| valid_rmse: 55.62446|  0:00:01s\n",
      "epoch 25 | loss: 21.14443| valid_rmse: 42.09318|  0:00:01s\n",
      "epoch 26 | loss: 17.69497| valid_rmse: 29.02316|  0:00:01s\n",
      "\n",
      "Early stopping occurred at epoch 26 with best_epoch = 6 and best_valid_rmse = 21.18393\n",
      "Best weights from best epoch are automatically used!\n"
     ]
    }
   ],
   "source": [
    "reg = TabNetRegressor()\n",
    "\n",
    "reg.fit(\n",
    "            X_train=X_train.values,\n",
    "            y_train=y_train.values.reshape(-1, 1),\n",
    "            eval_set=[(X_valid.values, y_valid.values.reshape(-1, 1))],\n",
    "            eval_name = [\"valid\"],\n",
    "            eval_metric = [\"rmse\"],\n",
    "            max_epochs=200,\n",
    "            patience=20, \n",
    "            batch_size=256, \n",
    "            virtual_batch_size=128,\n",
    "            num_workers=0, \n",
    "            drop_last=False,\n",
    ")"
   ]
  },
  {
   "cell_type": "code",
   "execution_count": 10,
   "metadata": {
    "colab": {
     "base_uri": "https://localhost:8080/"
    },
    "id": "FdRSKcEdO0zL",
    "outputId": "ce35c9b5-ff3e-4dfd-88b4-6068d60b87f3"
   },
   "outputs": [
    {
     "data": {
      "text/plain": [
       "4.220274326289036"
      ]
     },
     "execution_count": 10,
     "metadata": {},
     "output_type": "execute_result"
    }
   ],
   "source": [
    "y_pred = reg.predict(X_test.values)\n",
    "\n",
    "np.sqrt(mean_absolute_error(y_test, y_pred))"
   ]
  },
  {
   "cell_type": "markdown",
   "metadata": {
    "id": "UgZ4uM69PrAD"
   },
   "source": [
    "### 特徴量の重要性"
   ]
  },
  {
   "cell_type": "code",
   "execution_count": 11,
   "metadata": {
    "colab": {
     "base_uri": "https://localhost:8080/",
     "height": 609
    },
    "id": "EUDnbDoBPrIj",
    "outputId": "768c67d5-8b6c-434a-91cf-f5432e538b71"
   },
   "outputs": [
    {
     "data": {
      "text/plain": [
       "<BarContainer object of 13 artists>"
      ]
     },
     "execution_count": 11,
     "metadata": {},
     "output_type": "execute_result"
    },
    {
     "data": {
      "image/png": "[encoded data removed]",
      "text/plain": [
       "<Figure size 720x720 with 1 Axes>"
      ]
     },
     "metadata": {
      "needs_background": "light"
     },
     "output_type": "display_data"
    }
   ],
   "source": [
    "plt.figure(figsize=(10, 10))\n",
    "\n",
    "future_importance = pd.DataFrame([reg.feature_importances_], columns=X_train.columns).T\n",
    "future_importance = future_importance.sort_values(0)\n",
    "\n",
    "plt.barh(future_importance.index, future_importance.values.flatten())"
   ]
  }
 ],
 "metadata": {
  "accelerator": "GPU",
  "colab": {
   "collapsed_sections": [],
   "name": "TabNet.ipynb",
   "provenance": []
  },
  "kernelspec": {
   "display_name": "Python 3",
   "language": "python",
   "name": "python3"
  },
  "language_info": {
   "codemirror_mode": {
    "name": "ipython",
    "version": 3
   },
   "file_extension": ".py",
   "mimetype": "text/x-python",
   "name": "python",
   "nbconvert_exporter": "python",
   "pygments_lexer": "ipython3",
   "version": "3.8.8"
  }
 },
 "nbformat": 4,
 "nbformat_minor": 4
}
